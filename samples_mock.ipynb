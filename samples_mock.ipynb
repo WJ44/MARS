{
 "cells": [
  {
   "cell_type": "code",
   "execution_count": 10,
   "metadata": {},
   "outputs": [],
   "source": [
    "import pandas as pd\n",
    "\n",
    "FILE = \"multilingual_data/mlqa_(de)_dev_ratio_0.5_all.tsv\"\n",
    "\n",
    "df = pd.read_csv(FILE, sep=\"\\t\")\n",
    "\n",
    "df[\"Dataset\"] = df[\"doc_lang\"] + \"-\" + df[\"qa_lang\"]\n",
    "\n",
    "df = df[[\"Dataset\", \"Document\", \"Query\", \"Answer\", \"Context_Relevance_Label\", \"Answer_Relevance_Label\", \"Answer_Faithfulness_Label\", \"Language_Consistency_Label\"]]"
   ]
  },
  {
   "cell_type": "code",
   "execution_count": 11,
   "metadata": {},
   "outputs": [],
   "source": [
    "df_positive = df[(df[\"Context_Relevance_Label\"] == 1.0) & (df[\"Answer_Relevance_Label\"] == 1.0) & (df[\"Answer_Faithfulness_Label\"] == 1.0) & (df[\"Language_Consistency_Label\"] == 1.0)]\n",
    "\n",
    "df_negative_cr = df[(df[\"Context_Relevance_Label\"] == 0.0)]\n",
    "df_negative_ar = df[(df[\"Answer_Relevance_Label\"] == 0.0)]\n",
    "df_negative_af = df[(df[\"Answer_Faithfulness_Label\"] == 0.0)]\n",
    "df_negative_lc = df[(df[\"Language_Consistency_Label\"] == 0.0)]"
   ]
  },
  {
   "cell_type": "code",
   "execution_count": null,
   "metadata": {},
   "outputs": [],
   "source": [
    "samples = pd.concat([df_positive.sample(1, random_state=43), df_negative_cr.sample(1, random_state=42), df_negative_ar.sample(1, random_state=42), df_negative_af.sample(1, random_state=42), df_negative_lc.sample(1, random_state=42)])\n",
    "\n",
    "samples = samples.rename(columns={\"Context_Relevance_Label\": \"CR\", \"Answer_Relevance_Label\": \"AR\", \"Answer_Faithfulness_Label\": \"AF\", \"Language_Consistency_Label\": \"LC\"})"
   ]
  },
  {
   "cell_type": "code",
   "execution_count": 19,
   "metadata": {},
   "outputs": [
    {
     "name": "stdout",
     "output_type": "stream",
     "text": [
      "\\begin{tabular}{llllllll}\n",
      "\\toprule\n",
      "Dataset & Document & Query & Answer & CR & AR & AF & LC \\\\\n",
      "\\midrule\n",
      "de-en & Die Salomonen gliedern sich in neun Provinzen und den Hauptstadtbezirk Honiara: & What is the tenth administrative area? & Honiara & Yes & Yes & Yes & Yes \\\\\n",
      "de-de & Klepsydren waren nützlicher als Sonnenuhren, da sie im Haus, während der Nacht und wenn der Himmel bewölkt war verwendet werden konnten. Da sie nicht so genau wie Sonnenuhren waren, suchten die Griechen nach einem Weg, ihre Wasseruhren zu verbessern. Etwa 325 v. Chr. wurde die griechische Wasseruhr angepasst, sie bekam ein Gesicht, auf der exakt eine Stunde abgelesen werden konnte. Damit wurde das Lesen der Wasseruhr präziser und komfortabler gestaltet. Eines der häufigsten Probleme in den meisten Arten von Klepsydren wurde durch den Wasserdruck verursacht. Bei vollem Behälter floss das Wasser, bedingt durch den höheren Druck, schneller aus. Dadurch hatte das Wasser je nach Stand eine unterschiedliche Fließgeschwindigkeit. Dieses Problem wurde von den griechischen und römischen Uhrmachern ab 100 v. Chr. behandelt. Um dem erhöhten Wasserdruck entgegenzutreten, erhielten die Wasseruhren eine konische Form. Der dünne Abfluss ermöglichte ein gleichbleibendes Abtropfen des Wassers, unabhängig von der jeweiligen Wasserfläche in der Uhr. In den folgenden Jahrhunderten wurden weitere Verbesserungen an der Wasseruhr durchgeführt. Die Uhren wurden in ihrer Bauform eleganter und mit Gongs versehen, um die vollen Stunden geräuschvoll mitzuteilen. Andere Wasseruhren wurden mit Miniaturfiguren bestückt, oder bewegliche Mechanismen öffneten alle volle Stunden eine Tür oder betätigten eine Glocke. Es gab noch ungelöste Probleme, wie etwa die Wirkung der Temperatur. Kaltes Wasser hat eine größere Dichte als warmes Wasser, wodurch eine unterschiedliche Fließgeschwindigkeit entsteht. Des Weiteren konnte die Wasseruhr bei Frost nicht benutzt werden.Obwohl die Griechen und Römer in der Wasseruhrtechnologie weit voraus waren, wurden noch weiterhin die Schattenuhren verwendet. Der Mathematiker und Astronom Theodosius von Bithynien soll eine universelle Sonnenuhr erfunden haben, die überall auf der Erde die korrekte Zeit wiedergab. & Zu welcher Stärke macht sich der Stern Vega? & zu einem schwachen & No & NaN & NaN & NaN \\\\\n",
      "de-en & Lawrence Lessig behauptet, dass Copyright ein Hindernis für kulturelle Produktion, Wissensverteilung und für technologische Innovation sei und dass dieses Gesetz nur auf private Interessen – entgegengesetzt zu öffentlichem Gut – abziele. Im Jahre 1998 reiste er durchs Land und gab hunderte Reden an Universitäten und entfachte somit die Bewegung. Dies führte zur Gründung des ersten Ortsverbands von Students for Free Culture am Swarthmore College. & What was founded at Swarthmore College? & ystävänpäivä & NaN & No & NaN & NaN \\\\\n",
      "de-de & Der goldene Helm über dem Wappenschild ist ein Symbol der Souveränität Manitobas innerhalb der Kanadischen Konföderation. Helmdecke und Helmwulst sind beide in rot und weiß, den nationalen Farben Kanadas. Helmkleinod ist ein Biber, der in der rechten Pfote eine Kuhschelle (Anemone patens) hält, die offizielle Blume der Provinz. Auf seinem Rücken trägt er die Edwardskrone. & Was ist das offizielle Tier von Kanada? & Im September 2008 & NaN & NaN & No & NaN \\\\\n",
      "en-de & From the middle of the 19th century onwards, trade, industry and tourism gained momentum. Nevertheless, until the middle of the 20th century, agriculture dominated the canton. Today a great number of small and middle-sized businesses dominate the economy. The largest employer is the airplane constructor Pilatus. The small and middle-sized businesses work in a wide range of areas. Many specialize in machine construction, medical equipment, international trade, optics and electronics. & Wann begannen diese Wirtschaftssektoren zu wachsen? & 19th century & NaN & NaN & NaN & No \\\\\n",
      "\\bottomrule\n",
      "\\end{tabular}\n",
      "\n"
     ]
    }
   ],
   "source": [
    "samples = samples.replace(1.0, \"Yes\")\n",
    "samples = samples.replace(0.0, \"No\")\n",
    "\n",
    "print(samples.to_latex(index=False, escape=False))"
   ]
  }
 ],
 "metadata": {
  "kernelspec": {
   "display_name": "ares",
   "language": "python",
   "name": "python3"
  },
  "language_info": {
   "codemirror_mode": {
    "name": "ipython",
    "version": 3
   },
   "file_extension": ".py",
   "mimetype": "text/x-python",
   "name": "python",
   "nbconvert_exporter": "python",
   "pygments_lexer": "ipython3",
   "version": "3.11.9"
  }
 },
 "nbformat": 4,
 "nbformat_minor": 2
}
