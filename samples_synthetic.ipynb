{
 "cells": [
  {
   "cell_type": "code",
   "execution_count": 1,
   "metadata": {},
   "outputs": [],
   "source": [
    "import pandas as pd\n",
    "\n",
    "FILE = \"multilingual_data/synthetic_queries_mlqa_test.tsv\"\n",
    "\n",
    "df = pd.read_csv(FILE, sep=\"\\t\")\n",
    "\n",
    "df = df[[\"document\", \"synthetic_query\", \"generated_answer\", \"Context_Relevance_Label\", \"Answer_Relevance_Label\", \"Answer_Faithfulness_Label\", \"Language_Consistency_Label\"]]\n",
    "\n",
    "df[\"synthetic_query\"] = df[\"synthetic_query\"].str.replace(\"\\n\", \"\")\n",
    "df[\"generated_answer\"] = df[\"generated_answer\"].str.replace(\"\\n\", \"\")"
   ]
  },
  {
   "cell_type": "code",
   "execution_count": 2,
   "metadata": {},
   "outputs": [],
   "source": [
    "df_positive = df[(df[\"Context_Relevance_Label\"] == \"Yes\") & (df[\"Answer_Relevance_Label\"] == \"Yes\") & (df[\"Answer_Faithfulness_Label\"] == \"Yes\") & (df[\"Language_Consistency_Label\"] == \"Yes\")]\n",
    "\n",
    "df_negative_cr = df[(df[\"Context_Relevance_Label\"] == \"No\")]\n",
    "df_negative_ar = df[(df[\"Answer_Relevance_Label\"] == \"No\")]\n",
    "df_negative_af = df[(df[\"Answer_Faithfulness_Label\"] == \"No\")]\n",
    "df_negative_lc = df[(df[\"Language_Consistency_Label\"] == \"No\")]"
   ]
  },
  {
   "cell_type": "code",
   "execution_count": 3,
   "metadata": {},
   "outputs": [],
   "source": [
    "samples = pd.concat([df_positive.sample(1, random_state=44), df_negative_cr.sample(1, random_state=43), df_negative_ar.sample(1, random_state=42), df_negative_af.sample(1, random_state=46), df_negative_lc.sample(1, random_state=45)])\n",
    "\n",
    "samples = samples.rename(columns={\"document\": \"Document\", \"synthetic_query\": \"Query\", \"generated_answer\": \"Answer\", \"Context_Relevance_Label\": \"CR\", \"Answer_Relevance_Label\": \"AR\", \"Answer_Faithfulness_Label\": \"AF\", \"Language_Consistency_Label\": \"LC\"})"
   ]
  },
  {
   "cell_type": "code",
   "execution_count": 4,
   "metadata": {},
   "outputs": [
    {
     "name": "stdout",
     "output_type": "stream",
     "text": [
      "\\begin{tabular}{lllllll}\n",
      "\\toprule\n",
      "Document & Query & Answer & CR & AR & AF & LC \\\\\n",
      "\\midrule\n",
      "Ecuador annexed the Galápagos Islands on 12 February 1832, naming them the Archipelago of Ecuador. This new name added to several names that had been, and are still, used to refer to the archipelago. The first governor of Galápagos, General José de Villamil, brought a group of convicts to populate the island of Floreana, and in October 1832, some artisans and farmers joined them. & What was the name of the first governor of Galapagos? & General José de Villamil & Yes & Yes & Yes & Yes \\\\\n",
      "Zur Gewährleistung hoher Qualitätsstandards wird ein vergleichsweise kompliziertes Verfahren angewandt. Zunächst wird von der Bookerpreisstiftung ein Beirat berufen, der einzig die Aufgabe hat, die jedes Jahr neu zu bestimmenden Juroren zu küren. In diesem Beirat sitzen obligatorisch: ein Vertreter der Schriftsteller, zwei Verleger, ein Literaturagent, ein Buchhändler, ein Bibliothekar sowie ein Moderator und Vorsitzender aus der Stiftung selbst. Die Juroren werden ausgewählt aus den Meinungsführern der Literaturkritiker, Schriftsteller, Literaturwissenschaftler und Persönlichkeiten des öffentlichen Lebens. Mehrfache Nominierungen als Jurymitglied sind über die Jahre eher die Ausnahme als der Regelfall geblieben. & What does Alice find in the rabbit's hole? & a room with many doors & No & NaN & No & Yes \\\\\n",
      "Levantine Art was first discovered in Teruel in 1903. The Spanish prehistorian Juan Cabre was the first to study this art, defining it as a regional Palaeolithic art. Assessment as Palaeolithic was challenged for various reasons including the fact that no glacial fauna was depicted. Antonio Beltrán Martínez and others place the beginning of this art in the Epipaleolithic or Mesolithic, placing its heyday in the Neolithic period. Accepting a post-Paleolithic age for the art, Ripio devised a new chronological scheme in the 1960s, dividing the art into four stages:naturalistic, stylized static, stylized dynamic, and final phase of transition to the schematic. & who was the first to study this art? & Grenfell died & NaN & No & NaN & Yes \\\\\n",
      "Wie in anderen europäischen Ländern kam es auch in Spanien nach dem Zweiten Weltkrieg, aus dem Franco das Land heraushalten konnte, zu einem langen wirtschaftlichen Nachkriegsboom. 1947 restaurierte Franco die Monarchie und ernannte Juan Carlos I. 1969 als Staatsoberhaupt zu seinem Nachfolger. Dieser leitete nach dem Tod des Diktators am 20. November 1975 einen Demokratisierungsprozess (span. Transición) ein. Durch die Verabschiedung einer Verfassung wurde Spanien 1978 zu einer parlamentarischen Monarchie. In der Endphase der Diktatur Francos und besonders während der Transition kam es zu massiven Terroraktionen der ETA und anderer linker wie auch rechter Terrorgruppen. Im Jahr 1981 erfolgte noch einmal ein Putschversuch („23-F“) von rechten Militärs und Teilen der paramilitärischen Guardia Civil gegen die demokratische Regierung. & How many fish species are there? & 3 000 & No & NaN & No & Yes \\\\\n",
      "Am 26. Juli 1970 heiratete er Romina Power, die Tochter des Schauspielers Tyrone Power. Aus der Ehe gingen vier Kinder hervor: Cristel, geboren 1985, Romina Jr., geboren 1987, Yari, geboren 1973 und die älteste Tochter Ylenia Carrisi, geboren 1970. Die beiden wurden auch beruflich ein Paar; 1969 nahm er mit ihr Cori di Acqua di mare und 1970 Storia di due innamorati auf. & Wie viele Kinder hat Al Bano mit seiner ersten Frau? & 22.8% were non-families & NaN & No & No & No \\\\\n",
      "\\bottomrule\n",
      "\\end{tabular}\n",
      "\n"
     ]
    }
   ],
   "source": [
    "print(samples.to_latex(index=False, escape=False))"
   ]
  }
 ],
 "metadata": {
  "kernelspec": {
   "display_name": "ares",
   "language": "python",
   "name": "python3"
  },
  "language_info": {
   "codemirror_mode": {
    "name": "ipython",
    "version": 3
   },
   "file_extension": ".py",
   "mimetype": "text/x-python",
   "name": "python",
   "nbconvert_exporter": "python",
   "pygments_lexer": "ipython3",
   "version": "3.11.9"
  }
 },
 "nbformat": 4,
 "nbformat_minor": 2
}
