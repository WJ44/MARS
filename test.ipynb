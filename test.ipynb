{
 "cells": [
  {
   "cell_type": "code",
   "execution_count": 1,
   "metadata": {},
   "outputs": [
    {
     "name": "stdout",
     "output_type": "stream",
     "text": [
      "env: OPENAI_API_KEY=test\n"
     ]
    }
   ],
   "source": [
    "%env OPENAI_API_KEY=test"
   ]
  },
  {
   "cell_type": "code",
   "execution_count": 2,
   "metadata": {},
   "outputs": [
    {
     "data": {
      "application/vnd.jupyter.widget-view+json": {
       "model_id": "14ed0f57341748b0857282e94dc8dcda",
       "version_major": 2,
       "version_minor": 0
      },
      "text/plain": [
       "Evaluating large subset with google/gemma-1.1-2b-it:   0%|          | 0/6189 [00:00<?, ?it/s]"
      ]
     },
     "metadata": {},
     "output_type": "display_data"
    },
    {
     "name": "stdout",
     "output_type": "stream",
     "text": [
      "------------------------------------------\n",
      "Context Relevance Evaluation:\n",
      "Question: who sings somebody's watching me with michael jackson\n",
      "Document: \"Somebody's Watching Me\" is a song recorded by American singer Rockwell, released by the Motown label in 1984, as the lead single from his debut studio album of the same name. Rockwell's debut single release, the song features guest vocals by brothers Michael Jackson (in the chorus) and Jermaine Jackson (additional backing vocals).\n",
      "\n",
      "Label: \n",
      "[[Yes]]\n",
      "Returned label 1\n",
      "------------------------------------------\n",
      "Answer Relevance Evaluation\n",
      "Question: who sings somebody's watching me with michael jackson\n",
      "Document: \"Somebody's Watching Me\" is a song recorded by American singer Rockwell, released by the Motown label in 1984, as the lead single from his debut studio album of the same name. Rockwell's debut single release, the song features guest vocals by brothers Michael Jackson (in the chorus) and Jermaine Jackson (additional backing vocals).\n",
      "\n",
      "Answer: Rockwell\n",
      "Label: \n",
      "Attempt 1 failed with error: Error code: 400 - {'object': 'error', 'message': 'System role not supported', 'type': 'BadRequestError', 'param': None, 'code': 400}\n",
      "------------------------------------------\n",
      "Answer Relevance Evaluation\n",
      "Question: who sings somebody's watching me with michael jackson\n",
      "Document: \"Somebody's Watching Me\" is a song recorded by American singer Rockwell, released by the Motown label in 1984, as the lead single from his debut studio album of the same name. Rockwell's debut single release, the song features guest vocals by brothers Michael Jackson (in the chorus) and Jermaine Jackson (additional backing vocals).\n",
      "\n",
      "Answer: Rockwell\n",
      "Label: \n",
      "Attempt 2 failed with error: Error code: 400 - {'object': 'error', 'message': 'System role not supported', 'type': 'BadRequestError', 'param': None, 'code': 400}\n",
      "------------------------------------------\n",
      "Answer Relevance Evaluation\n",
      "Question: who sings somebody's watching me with michael jackson\n",
      "Document: \"Somebody's Watching Me\" is a song recorded by American singer Rockwell, released by the Motown label in 1984, as the lead single from his debut studio album of the same name. Rockwell's debut single release, the song features guest vocals by brothers Michael Jackson (in the chorus) and Jermaine Jackson (additional backing vocals).\n",
      "\n",
      "Answer: Rockwell\n",
      "Label: \n",
      "Attempt 3 failed with error: Error code: 400 - {'object': 'error', 'message': 'System role not supported', 'type': 'BadRequestError', 'param': None, 'code': 400}\n",
      "------------------------------------------\n",
      "Answer Relevance Evaluation\n",
      "Question: who sings somebody's watching me with michael jackson\n",
      "Document: \"Somebody's Watching Me\" is a song recorded by American singer Rockwell, released by the Motown label in 1984, as the lead single from his debut studio album of the same name. Rockwell's debut single release, the song features guest vocals by brothers Michael Jackson (in the chorus) and Jermaine Jackson (additional backing vocals).\n",
      "\n",
      "Answer: Rockwell\n",
      "Label: \n",
      "Attempt 4 failed with error: Error code: 400 - {'object': 'error', 'message': 'System role not supported', 'type': 'BadRequestError', 'param': None, 'code': 400}\n",
      "------------------------------------------\n",
      "Answer Relevance Evaluation\n",
      "Question: who sings somebody's watching me with michael jackson\n",
      "Document: \"Somebody's Watching Me\" is a song recorded by American singer Rockwell, released by the Motown label in 1984, as the lead single from his debut studio album of the same name. Rockwell's debut single release, the song features guest vocals by brothers Michael Jackson (in the chorus) and Jermaine Jackson (additional backing vocals).\n",
      "\n",
      "Answer: Rockwell\n",
      "Label: \n",
      "All attempts failed. Last error was: Error code: 400 - {'object': 'error', 'message': 'System role not supported', 'type': 'BadRequestError', 'param': None, 'code': 400}\n",
      "------------------------------------------\n",
      "Answer Faithfulness Evaluation\n",
      "Question: who sings somebody's watching me with michael jackson\n",
      "Document: \"Somebody's Watching Me\" is a song recorded by American singer Rockwell, released by the Motown label in 1984, as the lead single from his debut studio album of the same name. Rockwell's debut single release, the song features guest vocals by brothers Michael Jackson (in the chorus) and Jermaine Jackson (additional backing vocals).\n",
      "\n",
      "Answer: Rockwell\n",
      "Label: \n",
      "Attempt 1 failed with error: Error code: 400 - {'object': 'error', 'message': 'System role not supported', 'type': 'BadRequestError', 'param': None, 'code': 400}\n",
      "------------------------------------------\n",
      "Answer Faithfulness Evaluation\n",
      "Question: who sings somebody's watching me with michael jackson\n",
      "Document: \"Somebody's Watching Me\" is a song recorded by American singer Rockwell, released by the Motown label in 1984, as the lead single from his debut studio album of the same name. Rockwell's debut single release, the song features guest vocals by brothers Michael Jackson (in the chorus) and Jermaine Jackson (additional backing vocals).\n",
      "\n",
      "Answer: Rockwell\n",
      "Label: \n",
      "Attempt 2 failed with error: Error code: 400 - {'object': 'error', 'message': 'System role not supported', 'type': 'BadRequestError', 'param': None, 'code': 400}\n",
      "------------------------------------------\n",
      "Answer Faithfulness Evaluation\n",
      "Question: who sings somebody's watching me with michael jackson\n",
      "Document: \"Somebody's Watching Me\" is a song recorded by American singer Rockwell, released by the Motown label in 1984, as the lead single from his debut studio album of the same name. Rockwell's debut single release, the song features guest vocals by brothers Michael Jackson (in the chorus) and Jermaine Jackson (additional backing vocals).\n",
      "\n",
      "Answer: Rockwell\n",
      "Label: \n",
      "Attempt 3 failed with error: Error code: 400 - {'object': 'error', 'message': 'System role not supported', 'type': 'BadRequestError', 'param': None, 'code': 400}\n",
      "------------------------------------------\n",
      "Answer Faithfulness Evaluation\n",
      "Question: who sings somebody's watching me with michael jackson\n",
      "Document: \"Somebody's Watching Me\" is a song recorded by American singer Rockwell, released by the Motown label in 1984, as the lead single from his debut studio album of the same name. Rockwell's debut single release, the song features guest vocals by brothers Michael Jackson (in the chorus) and Jermaine Jackson (additional backing vocals).\n",
      "\n",
      "Answer: Rockwell\n",
      "Label: \n",
      "Attempt 4 failed with error: Error code: 400 - {'object': 'error', 'message': 'System role not supported', 'type': 'BadRequestError', 'param': None, 'code': 400}\n",
      "------------------------------------------\n",
      "Answer Faithfulness Evaluation\n",
      "Question: who sings somebody's watching me with michael jackson\n",
      "Document: \"Somebody's Watching Me\" is a song recorded by American singer Rockwell, released by the Motown label in 1984, as the lead single from his debut studio album of the same name. Rockwell's debut single release, the song features guest vocals by brothers Michael Jackson (in the chorus) and Jermaine Jackson (additional backing vocals).\n",
      "\n",
      "Answer: Rockwell\n",
      "Label: \n",
      "All attempts failed. Last error was: Error code: 400 - {'object': 'error', 'message': 'System role not supported', 'type': 'BadRequestError', 'param': None, 'code': 400}\n",
      "------------------------------------------\n",
      "Context Relevance Evaluation:\n",
      "Question: who cracked the enigma code in world war 2\n",
      "Document: Alan Turing\n",
      "\n",
      "Label: \n",
      "Attempt 1 failed with error: Connection error.\n"
     ]
    }
   ],
   "source": [
    "from ares import ARES\n",
    "\n",
    "ues_idp_config = {\n",
    "    \"in_domain_prompts_dataset\": \"datasets/example_files/nq_few_shot_prompt_for_judge_scoring.tsv\",\n",
    "    \"unlabeled_evaluation_set\": \"datasets/example_files/nq_unlabeled_output.tsv\", \n",
    "    \"model_choice\": \"meta-llama/Meta-Llama-3-8B-Instruct\", # Specify vLLM model\n",
    "    \"vllm\": True, # Toggle vLLM to True \n",
    "    \"host_url\": \"http://0.0.0.0:8000/v1\", # Replace with server hosting model followed by \"/v1\"\n",
    "    \"debug_mode\": True\n",
    "} \n",
    "\n",
    "ares = ARES(ues_idp=ues_idp_config)\n",
    "results = ares.ues_idp()\n",
    "print(results)"
   ]
  }
 ],
 "metadata": {
  "kernelspec": {
   "display_name": "llm_judge",
   "language": "python",
   "name": "python3"
  },
  "language_info": {
   "codemirror_mode": {
    "name": "ipython",
    "version": 3
   },
   "file_extension": ".py",
   "mimetype": "text/x-python",
   "name": "python",
   "nbconvert_exporter": "python",
   "pygments_lexer": "ipython3",
   "version": "3.10.14"
  }
 },
 "nbformat": 4,
 "nbformat_minor": 2
}
